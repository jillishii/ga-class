{
 "cells": [
  {
   "cell_type": "markdown",
   "metadata": {},
   "source": [
    "#  Final Project: Etsy Marketplace Exploration"
   ]
  },
  {
   "cell_type": "markdown",
   "metadata": {},
   "source": [
    "## Data Aquisition"
   ]
  },
  {
   "cell_type": "code",
   "execution_count": 1,
   "metadata": {
    "collapsed": true
   },
   "outputs": [],
   "source": [
    "# import HTML tools\n",
    "from lxml import html\n",
    "import xml.etree.ElementTree as ET"
   ]
  },
  {
   "cell_type": "code",
   "execution_count": 2,
   "metadata": {
    "collapsed": false
   },
   "outputs": [],
   "source": [
    "# read in the list of etsy page categories\n",
    "import pandas as pd\n",
    "etsy_pages = pd.read_csv(\"etsy_category_pages.csv\")\n"
   ]
  },
  {
   "cell_type": "code",
   "execution_count": 3,
   "metadata": {
    "collapsed": false
   },
   "outputs": [],
   "source": [
    "page_cat = etsy_pages['page'].tolist()"
   ]
  },
  {
   "cell_type": "code",
   "execution_count": 4,
   "metadata": {
    "collapsed": false
   },
   "outputs": [],
   "source": [
    "# generate list of urls for each category\n",
    "\n",
    "urls = []\n",
    "start = \"https://www.etsy.com/c/\"\n",
    "\n",
    "for x in page_cat:\n",
    "    urls.append(start + x)"
   ]
  },
  {
   "cell_type": "code",
   "execution_count": 5,
   "metadata": {
    "collapsed": true
   },
   "outputs": [],
   "source": [
    "# All of these categories get a successful response \n",
    "# Now that we have a list of catgories with associated web pages, we can scrape subcategories\n",
    "# After we collect subcategores we can get the shop names from each subcategory page"
   ]
  },
  {
   "cell_type": "code",
   "execution_count": 7,
   "metadata": {
    "collapsed": false
   },
   "outputs": [],
   "source": [
    "# Find all html elements which contain the links to the subcategory pages\n",
    "import requests\n",
    "import lxml\n",
    "sub_elements = []\n",
    "\n",
    "for url in urls:\n",
    "    #send the request\n",
    "    content = requests.get(url)\n",
    "    #save the page source code to a string called content_string\n",
    "    content_string = content.text.encode(\"utf-8\")\n",
    "    #pass the page source to our html parse\n",
    "    doc = lxml.html.document_fromstring(content_string)\n",
    "    # Find html element containing each subcategory\n",
    "    element = doc.xpath(\"//li[@class='pb-xs-1 pl-xs-0']\")\n",
    "    sub_elements.append(element)"
   ]
  },
  {
   "cell_type": "code",
   "execution_count": 8,
   "metadata": {
    "collapsed": false,
    "scrolled": true
   },
   "outputs": [],
   "source": [
    "# Get urls for each of the subcategories and store them in a list\n",
    "sub_links = []\n",
    "\n",
    "for element in sub_elements:\n",
    "    for x in element:\n",
    "        child = x.getchildren()\n",
    "        new = child[0].attrib['href']\n",
    "        sub_links.append(new)"
   ]
  },
  {
   "cell_type": "code",
   "execution_count": 9,
   "metadata": {
    "collapsed": false
   },
   "outputs": [],
   "source": [
    "# Save subcategory links in a csv file\n",
    "import csv\n",
    "\n",
    "with open('subcategory_links.csv', 'w') as csvfile:\n",
    "    fieldnames=['link']\n",
    "    writer = csv.DictWriter(csvfile, fieldnames=fieldnames)\n",
    "    writer.writeheader()\n",
    "    \n",
    "    # iterate through category and subcategory\n",
    "    for item in sub_links:\n",
    "        writer.writerow({'link': item})"
   ]
  },
  {
   "cell_type": "code",
   "execution_count": 10,
   "metadata": {
    "collapsed": false
   },
   "outputs": [],
   "source": [
    "# open csv subcategory link file\n",
    "newdata = pd.read_csv(\"subcategory_links.csv\",sep=\"/\",names=('0','1','2','3','top_category','link_address'))\n",
    "del(newdata['0'],newdata['1'],newdata['2'],newdata['3'])\n",
    "catdf = newdata.dropna()\n"
   ]
  },
  {
   "cell_type": "code",
   "execution_count": 11,
   "metadata": {
    "collapsed": false,
    "scrolled": true
   },
   "outputs": [
    {
     "name": "stderr",
     "output_type": "stream",
     "text": [
      "/Users/jill/Applications/anaconda/lib/python2.7/site-packages/ipykernel/__main__.py:5: SettingWithCopyWarning: \n",
      "A value is trying to be set on a copy of a slice from a DataFrame.\n",
      "Try using .loc[row_indexer,col_indexer] = value instead\n",
      "\n",
      "See the caveats in the documentation: http://pandas.pydata.org/pandas-docs/stable/indexing.html#indexing-view-versus-copy\n"
     ]
    }
   ],
   "source": [
    "# extract subcatgory name from link and save as new csv file\n",
    "def clean_links(text):\n",
    "    return text.split(\"?\")[0]\n",
    "\n",
    "catdf['sub_category'] = catdf['link_address'].apply(clean_links)\n",
    "#catdf.to_csv(path_or_buf = \"category_list\")"
   ]
  },
  {
   "cell_type": "code",
   "execution_count": 12,
   "metadata": {
    "collapsed": false
   },
   "outputs": [],
   "source": [
    "sub_links = pd.read_csv(\"subcategory_links.csv\")"
   ]
  },
  {
   "cell_type": "code",
   "execution_count": 13,
   "metadata": {
    "collapsed": true
   },
   "outputs": [],
   "source": [
    "sub_links['source'] = \"\""
   ]
  },
  {
   "cell_type": "code",
   "execution_count": 14,
   "metadata": {
    "collapsed": false
   },
   "outputs": [],
   "source": [
    "# get source code for every subcategory link and append to the sub_links dataframe    \n",
    "for i in range(len(sub_links)):\n",
    "    content = sub_links['link'][i]\n",
    "    source_code = requests.get(content)\n",
    "    source_string = source_code.text.encode(\"utf-8\")\n",
    "    sub_links['source'][i] = source_string"
   ]
  },
  {
   "cell_type": "code",
   "execution_count": 15,
   "metadata": {
    "collapsed": false,
    "scrolled": true
   },
   "outputs": [
    {
     "data": {
      "text/html": [
       "<div>\n",
       "<table border=\"1\" class=\"dataframe\">\n",
       "  <thead>\n",
       "    <tr style=\"text-align: right;\">\n",
       "      <th></th>\n",
       "      <th>top_category</th>\n",
       "      <th>sub_category</th>\n",
       "      <th>link</th>\n",
       "      <th>source</th>\n",
       "    </tr>\n",
       "  </thead>\n",
       "  <tbody>\n",
       "    <tr>\n",
       "      <th>0</th>\n",
       "      <td>accessories</td>\n",
       "      <td>hair-accessories</td>\n",
       "      <td>https://www.etsy.com/c/accessories/hair-access...</td>\n",
       "      <td>&lt;!DOCTYPE html&gt;\\n&lt;html xmlns=\"http://www.w3.or...</td>\n",
       "    </tr>\n",
       "    <tr>\n",
       "      <th>1</th>\n",
       "      <td>accessories</td>\n",
       "      <td>hats-and-caps</td>\n",
       "      <td>https://www.etsy.com/c/accessories/hats-and-ca...</td>\n",
       "      <td>&lt;!DOCTYPE html&gt;\\n&lt;html xmlns=\"http://www.w3.or...</td>\n",
       "    </tr>\n",
       "    <tr>\n",
       "      <th>2</th>\n",
       "      <td>accessories</td>\n",
       "      <td>baby-accessories</td>\n",
       "      <td>https://www.etsy.com/c/accessories/baby-access...</td>\n",
       "      <td>&lt;!DOCTYPE html&gt;\\n&lt;html xmlns=\"http://www.w3.or...</td>\n",
       "    </tr>\n",
       "    <tr>\n",
       "      <th>3</th>\n",
       "      <td>accessories</td>\n",
       "      <td>scarves-and-wraps</td>\n",
       "      <td>https://www.etsy.com/c/accessories/scarves-and...</td>\n",
       "      <td>&lt;!DOCTYPE html&gt;\\n&lt;html xmlns=\"http://www.w3.or...</td>\n",
       "    </tr>\n",
       "    <tr>\n",
       "      <th>4</th>\n",
       "      <td>accessories</td>\n",
       "      <td>keychains-and-lanyards</td>\n",
       "      <td>https://www.etsy.com/c/accessories/keychains-a...</td>\n",
       "      <td>&lt;!DOCTYPE html&gt;\\n&lt;html xmlns=\"http://www.w3.or...</td>\n",
       "    </tr>\n",
       "  </tbody>\n",
       "</table>\n",
       "</div>"
      ],
      "text/plain": [
       "  top_category            sub_category  \\\n",
       "0  accessories        hair-accessories   \n",
       "1  accessories           hats-and-caps   \n",
       "2  accessories        baby-accessories   \n",
       "3  accessories       scarves-and-wraps   \n",
       "4  accessories  keychains-and-lanyards   \n",
       "\n",
       "                                                link  \\\n",
       "0  https://www.etsy.com/c/accessories/hair-access...   \n",
       "1  https://www.etsy.com/c/accessories/hats-and-ca...   \n",
       "2  https://www.etsy.com/c/accessories/baby-access...   \n",
       "3  https://www.etsy.com/c/accessories/scarves-and...   \n",
       "4  https://www.etsy.com/c/accessories/keychains-a...   \n",
       "\n",
       "                                              source  \n",
       "0  <!DOCTYPE html>\\n<html xmlns=\"http://www.w3.or...  \n",
       "1  <!DOCTYPE html>\\n<html xmlns=\"http://www.w3.or...  \n",
       "2  <!DOCTYPE html>\\n<html xmlns=\"http://www.w3.or...  \n",
       "3  <!DOCTYPE html>\\n<html xmlns=\"http://www.w3.or...  \n",
       "4  <!DOCTYPE html>\\n<html xmlns=\"http://www.w3.or...  "
      ]
     },
     "execution_count": 15,
     "metadata": {},
     "output_type": "execute_result"
    }
   ],
   "source": [
    "# join dataframes\n",
    "\n",
    "catdf = catdf.reset_index()\n",
    "catdf = catdf.join(sub_links)\n",
    "del catdf['index']\n",
    "del catdf['link_address']\n",
    "#catdf = catdf.set_index(['sub_category'], drop = False)\n",
    "\n",
    "catdf.head(5)"
   ]
  },
  {
   "cell_type": "code",
   "execution_count": 16,
   "metadata": {
    "collapsed": false
   },
   "outputs": [],
   "source": [
    "# finds all shop names from html source string and appends to list\n",
    "# returns list\n",
    "\n",
    "def get_shop_names(source_string):\n",
    "    j = []\n",
    "    doc = lxml.html.document_fromstring(source_string)\n",
    "    tags = doc.xpath(\"//div[@class='card-meta-row-item text-truncate overflow-hidden card-shop-name']\")\n",
    "    for tag in tags:\n",
    "        j.append(tag.text)\n",
    "    return j"
   ]
  },
  {
   "cell_type": "code",
   "execution_count": 17,
   "metadata": {
    "collapsed": true
   },
   "outputs": [],
   "source": [
    "# create new column to store list of shop names\n",
    "catdf['shops'] = \"\""
   ]
  },
  {
   "cell_type": "code",
   "execution_count": 18,
   "metadata": {
    "collapsed": false
   },
   "outputs": [],
   "source": [
    "# populate column with list of shop names\n",
    "for i in range(len(catdf)):\n",
    "    l = get_shop_names(catdf['source'][i])\n",
    "    catdf['shops'][i] = l"
   ]
  },
  {
   "cell_type": "code",
   "execution_count": 19,
   "metadata": {
    "collapsed": true
   },
   "outputs": [],
   "source": [
    "# takes raw list containing shop names\n",
    "#returns clean list with shop name only\n",
    "\n",
    "import re\n",
    "\n",
    "def clean_name(messy_name_list):\n",
    "    new_list = []\n",
    "    for name in messy_name_list:\n",
    "        finder = re.compile(\"\\n\" + \"(.*?)\" + \"\\n\", re.IGNORECASE)\n",
    "        matches = finder.findall(name)\n",
    "        no_replace = re.compile(\"\\s+\")\n",
    "        p = no_replace.sub(\"\", matches[0])\n",
    "        new_list.append(p)\n",
    "    return new_list"
   ]
  },
  {
   "cell_type": "code",
   "execution_count": 20,
   "metadata": {
    "collapsed": false
   },
   "outputs": [],
   "source": [
    "# apply function to every list in column 'shops'\n",
    "for i in range(len(catdf)):\n",
    "    catdf['shops'][i] = clean_name(catdf['shops'][i])"
   ]
  },
  {
   "cell_type": "code",
   "execution_count": 21,
   "metadata": {
    "collapsed": false
   },
   "outputs": [
    {
     "data": {
      "text/html": [
       "<div>\n",
       "<table border=\"1\" class=\"dataframe\">\n",
       "  <thead>\n",
       "    <tr style=\"text-align: right;\">\n",
       "      <th></th>\n",
       "      <th>top_category</th>\n",
       "      <th>sub_category</th>\n",
       "      <th>link</th>\n",
       "      <th>source</th>\n",
       "      <th>shops</th>\n",
       "    </tr>\n",
       "  </thead>\n",
       "  <tbody>\n",
       "    <tr>\n",
       "      <th>0</th>\n",
       "      <td>accessories</td>\n",
       "      <td>hair-accessories</td>\n",
       "      <td>https://www.etsy.com/c/accessories/hair-access...</td>\n",
       "      <td>&lt;!DOCTYPE html&gt;\\n&lt;html xmlns=\"http://www.w3.or...</td>\n",
       "      <td>[PoshPelicanCo, MustHaveBows, LoveMiaCo, jahan...</td>\n",
       "    </tr>\n",
       "    <tr>\n",
       "      <th>1</th>\n",
       "      <td>accessories</td>\n",
       "      <td>hats-and-caps</td>\n",
       "      <td>https://www.etsy.com/c/accessories/hats-and-ca...</td>\n",
       "      <td>&lt;!DOCTYPE html&gt;\\n&lt;html xmlns=\"http://www.w3.or...</td>\n",
       "      <td>[BeanieVille, BlancaVeils, GorgeousComplements...</td>\n",
       "    </tr>\n",
       "    <tr>\n",
       "      <th>2</th>\n",
       "      <td>accessories</td>\n",
       "      <td>baby-accessories</td>\n",
       "      <td>https://www.etsy.com/c/accessories/baby-access...</td>\n",
       "      <td>&lt;!DOCTYPE html&gt;\\n&lt;html xmlns=\"http://www.w3.or...</td>\n",
       "      <td>[BabySeblime, SweetAndStitched, SkylarnMe, Pos...</td>\n",
       "    </tr>\n",
       "    <tr>\n",
       "      <th>3</th>\n",
       "      <td>accessories</td>\n",
       "      <td>scarves-and-wraps</td>\n",
       "      <td>https://www.etsy.com/c/accessories/scarves-and...</td>\n",
       "      <td>&lt;!DOCTYPE html&gt;\\n&lt;html xmlns=\"http://www.w3.or...</td>\n",
       "      <td>[MiracleShine, Avaneska, CutieChicBoutique, Zo...</td>\n",
       "    </tr>\n",
       "    <tr>\n",
       "      <th>4</th>\n",
       "      <td>accessories</td>\n",
       "      <td>keychains-and-lanyards</td>\n",
       "      <td>https://www.etsy.com/c/accessories/keychains-a...</td>\n",
       "      <td>&lt;!DOCTYPE html&gt;\\n&lt;html xmlns=\"http://www.w3.or...</td>\n",
       "      <td>[ChangeandCharms, LLDPetBoutique, catonealdesi...</td>\n",
       "    </tr>\n",
       "  </tbody>\n",
       "</table>\n",
       "</div>"
      ],
      "text/plain": [
       "  top_category            sub_category  \\\n",
       "0  accessories        hair-accessories   \n",
       "1  accessories           hats-and-caps   \n",
       "2  accessories        baby-accessories   \n",
       "3  accessories       scarves-and-wraps   \n",
       "4  accessories  keychains-and-lanyards   \n",
       "\n",
       "                                                link  \\\n",
       "0  https://www.etsy.com/c/accessories/hair-access...   \n",
       "1  https://www.etsy.com/c/accessories/hats-and-ca...   \n",
       "2  https://www.etsy.com/c/accessories/baby-access...   \n",
       "3  https://www.etsy.com/c/accessories/scarves-and...   \n",
       "4  https://www.etsy.com/c/accessories/keychains-a...   \n",
       "\n",
       "                                              source  \\\n",
       "0  <!DOCTYPE html>\\n<html xmlns=\"http://www.w3.or...   \n",
       "1  <!DOCTYPE html>\\n<html xmlns=\"http://www.w3.or...   \n",
       "2  <!DOCTYPE html>\\n<html xmlns=\"http://www.w3.or...   \n",
       "3  <!DOCTYPE html>\\n<html xmlns=\"http://www.w3.or...   \n",
       "4  <!DOCTYPE html>\\n<html xmlns=\"http://www.w3.or...   \n",
       "\n",
       "                                               shops  \n",
       "0  [PoshPelicanCo, MustHaveBows, LoveMiaCo, jahan...  \n",
       "1  [BeanieVille, BlancaVeils, GorgeousComplements...  \n",
       "2  [BabySeblime, SweetAndStitched, SkylarnMe, Pos...  \n",
       "3  [MiracleShine, Avaneska, CutieChicBoutique, Zo...  \n",
       "4  [ChangeandCharms, LLDPetBoutique, catonealdesi...  "
      ]
     },
     "execution_count": 21,
     "metadata": {},
     "output_type": "execute_result"
    }
   ],
   "source": [
    "catdf.head(5)"
   ]
  },
  {
   "cell_type": "code",
   "execution_count": 22,
   "metadata": {
    "collapsed": false
   },
   "outputs": [],
   "source": [
    "all_shops = []\n",
    "\n",
    "for i in range(len(catdf['shops'])):\n",
    "    for x in catdf['shops'][i]:\n",
    "        all_shops.append(x)"
   ]
  },
  {
   "cell_type": "code",
   "execution_count": 23,
   "metadata": {
    "collapsed": false
   },
   "outputs": [],
   "source": [
    "shop_df = pd.DataFrame(data = all_shops)"
   ]
  },
  {
   "cell_type": "code",
   "execution_count": 24,
   "metadata": {
    "collapsed": false
   },
   "outputs": [],
   "source": [
    "shop_df['shop_name'] = shop_df[0]"
   ]
  },
  {
   "cell_type": "code",
   "execution_count": 25,
   "metadata": {
    "collapsed": true
   },
   "outputs": [],
   "source": [
    "shop_df['review_links'] = \"\""
   ]
  },
  {
   "cell_type": "code",
   "execution_count": 26,
   "metadata": {
    "collapsed": false
   },
   "outputs": [],
   "source": [
    "# generate urls for each shop name in the list\n",
    "\n",
    "for i in range(len(shop_df)):\n",
    "    x = shop_df['shop_name'][i]\n",
    "    url = (\"https://www.etsy.com/shop/\"+ x +\"/reviews\")\n",
    "    shop_df['review_links'][i] = url"
   ]
  },
  {
   "cell_type": "code",
   "execution_count": 27,
   "metadata": {
    "collapsed": false
   },
   "outputs": [
    {
     "data": {
      "text/html": [
       "<div>\n",
       "<table border=\"1\" class=\"dataframe\">\n",
       "  <thead>\n",
       "    <tr style=\"text-align: right;\">\n",
       "      <th></th>\n",
       "      <th>0</th>\n",
       "      <th>shop_name</th>\n",
       "      <th>review_links</th>\n",
       "    </tr>\n",
       "  </thead>\n",
       "  <tbody>\n",
       "    <tr>\n",
       "      <th>0</th>\n",
       "      <td>PoshPelicanCo</td>\n",
       "      <td>PoshPelicanCo</td>\n",
       "      <td>https://www.etsy.com/shop/PoshPelicanCo/reviews</td>\n",
       "    </tr>\n",
       "    <tr>\n",
       "      <th>1</th>\n",
       "      <td>MustHaveBows</td>\n",
       "      <td>MustHaveBows</td>\n",
       "      <td>https://www.etsy.com/shop/MustHaveBows/reviews</td>\n",
       "    </tr>\n",
       "    <tr>\n",
       "      <th>2</th>\n",
       "      <td>LoveMiaCo</td>\n",
       "      <td>LoveMiaCo</td>\n",
       "      <td>https://www.etsy.com/shop/LoveMiaCo/reviews</td>\n",
       "    </tr>\n",
       "    <tr>\n",
       "      <th>3</th>\n",
       "      <td>jahannamartinez</td>\n",
       "      <td>jahannamartinez</td>\n",
       "      <td>https://www.etsy.com/shop/jahannamartinez/reviews</td>\n",
       "    </tr>\n",
       "    <tr>\n",
       "      <th>4</th>\n",
       "      <td>OnceUponATwincess</td>\n",
       "      <td>OnceUponATwincess</td>\n",
       "      <td>https://www.etsy.com/shop/OnceUponATwincess/re...</td>\n",
       "    </tr>\n",
       "  </tbody>\n",
       "</table>\n",
       "</div>"
      ],
      "text/plain": [
       "                   0          shop_name  \\\n",
       "0      PoshPelicanCo      PoshPelicanCo   \n",
       "1       MustHaveBows       MustHaveBows   \n",
       "2          LoveMiaCo          LoveMiaCo   \n",
       "3    jahannamartinez    jahannamartinez   \n",
       "4  OnceUponATwincess  OnceUponATwincess   \n",
       "\n",
       "                                        review_links  \n",
       "0    https://www.etsy.com/shop/PoshPelicanCo/reviews  \n",
       "1     https://www.etsy.com/shop/MustHaveBows/reviews  \n",
       "2        https://www.etsy.com/shop/LoveMiaCo/reviews  \n",
       "3  https://www.etsy.com/shop/jahannamartinez/reviews  \n",
       "4  https://www.etsy.com/shop/OnceUponATwincess/re...  "
      ]
     },
     "execution_count": 27,
     "metadata": {},
     "output_type": "execute_result"
    }
   ],
   "source": [
    "shop_df.head(5)"
   ]
  },
  {
   "cell_type": "code",
   "execution_count": 40,
   "metadata": {
    "collapsed": true
   },
   "outputs": [
    {
     "name": "stdout",
     "output_type": "stream",
     "text": [
      "0\n",
      "1\n",
      "2\n",
      "3\n",
      "4\n",
      "5\n",
      "6\n",
      "7\n",
      "8\n",
      "9\n",
      "10\n",
      "11\n",
      "12\n",
      "13\n",
      "14\n",
      "15\n",
      "16\n",
      "17\n",
      "18\n",
      "19\n",
      "20\n",
      "21\n",
      "22\n",
      "23\n",
      "24\n",
      "25\n",
      "26\n",
      "27\n",
      "28\n",
      "29\n",
      "30\n",
      "31\n",
      "32\n",
      "33\n",
      "34\n",
      "35\n",
      "36\n",
      "37\n",
      "38\n",
      "39\n",
      "40\n",
      "41\n",
      "42\n",
      "43\n",
      "44\n",
      "45\n",
      "46\n",
      "47\n",
      "48\n",
      "49\n",
      "50\n",
      "51\n",
      "52\n",
      "53\n",
      "54\n",
      "55\n",
      "56\n",
      "57\n",
      "58\n",
      "59\n",
      "60\n",
      "61\n",
      "62\n",
      "63\n",
      "64\n",
      "65\n",
      "66\n",
      "67\n",
      "68\n",
      "69\n",
      "70\n",
      "71\n",
      "72\n",
      "73\n",
      "74\n",
      "75\n",
      "76\n",
      "77\n",
      "78\n",
      "79\n",
      "80\n",
      "81\n",
      "82\n",
      "83\n",
      "84\n",
      "85\n",
      "86\n",
      "87\n",
      "88\n",
      "89\n",
      "90\n",
      "91\n",
      "92\n",
      "93\n",
      "94\n",
      "95\n",
      "96\n",
      "97\n",
      "98\n",
      "99\n"
     ]
    }
   ],
   "source": [
    "# get source code for every review link and append to the shop_df dataframe    \n",
    "\n",
    "#shop_df['review_source'] = \"\"\n",
    "\n",
    "for i in range(0,100):\n",
    "    content = shop_df['review_links'][i]\n",
    "    source_code = requests.get(content)\n",
    "    source_string = source_code.text.encode(\"utf-8\")\n",
    "    shop_df['review_source'][i] = source_string\n",
    "    print i"
   ]
  },
  {
   "cell_type": "code",
   "execution_count": 45,
   "metadata": {
    "collapsed": false
   },
   "outputs": [],
   "source": [
    "shop_df['input'] = shop_df.index"
   ]
  },
  {
   "cell_type": "code",
   "execution_count": 46,
   "metadata": {
    "collapsed": false
   },
   "outputs": [
    {
     "data": {
      "text/html": [
       "<div>\n",
       "<table border=\"1\" class=\"dataframe\">\n",
       "  <thead>\n",
       "    <tr style=\"text-align: right;\">\n",
       "      <th></th>\n",
       "      <th>0</th>\n",
       "      <th>shop_name</th>\n",
       "      <th>review_links</th>\n",
       "      <th>review_source</th>\n",
       "      <th>input</th>\n",
       "    </tr>\n",
       "  </thead>\n",
       "  <tbody>\n",
       "    <tr>\n",
       "      <th>0</th>\n",
       "      <td>PoshPelicanCo</td>\n",
       "      <td>PoshPelicanCo</td>\n",
       "      <td>https://www.etsy.com/shop/PoshPelicanCo/reviews</td>\n",
       "      <td>&lt;!DOCTYPE html&gt;\\n&lt;html xmlns=\"http://www.w3.or...</td>\n",
       "      <td>0</td>\n",
       "    </tr>\n",
       "    <tr>\n",
       "      <th>1</th>\n",
       "      <td>MustHaveBows</td>\n",
       "      <td>MustHaveBows</td>\n",
       "      <td>https://www.etsy.com/shop/MustHaveBows/reviews</td>\n",
       "      <td>&lt;!DOCTYPE html&gt;\\n&lt;html xmlns=\"http://www.w3.or...</td>\n",
       "      <td>1</td>\n",
       "    </tr>\n",
       "  </tbody>\n",
       "</table>\n",
       "</div>"
      ],
      "text/plain": [
       "               0      shop_name  \\\n",
       "0  PoshPelicanCo  PoshPelicanCo   \n",
       "1   MustHaveBows   MustHaveBows   \n",
       "\n",
       "                                      review_links  \\\n",
       "0  https://www.etsy.com/shop/PoshPelicanCo/reviews   \n",
       "1   https://www.etsy.com/shop/MustHaveBows/reviews   \n",
       "\n",
       "                                       review_source  input  \n",
       "0  <!DOCTYPE html>\\n<html xmlns=\"http://www.w3.or...      0  \n",
       "1  <!DOCTYPE html>\\n<html xmlns=\"http://www.w3.or...      1  "
      ]
     },
     "execution_count": 46,
     "metadata": {},
     "output_type": "execute_result"
    }
   ],
   "source": [
    "shop_df.head(2)"
   ]
  },
  {
   "cell_type": "code",
   "execution_count": 57,
   "metadata": {
    "collapsed": true
   },
   "outputs": [],
   "source": [
    "p_elements = []\n",
    "a_elements = []\n",
    "review_dates = []\n",
    "def get_shop_dates(source_string):\n",
    "    j = []\n",
    "    doc = lxml.html.document_fromstring(source_string)\n",
    "    tags = doc.xpath(\"//div[@class='mt-xs-2 mb-xs-2']\")\n",
    "    \n",
    "    for tag in tags:\n",
    "        p_elements.append(tag.getchildren())\n",
    "    for p in p_elements:\n",
    "        for x in p:\n",
    "            a_elements.append(x.getchildren())\n",
    "    for element in a_elements:\n",
    "        for x in element:\n",
    "            review_dates.append(x.tail)\n",
    "    return review_dates"
   ]
  },
  {
   "cell_type": "code",
   "execution_count": 58,
   "metadata": {
    "collapsed": false
   },
   "outputs": [],
   "source": [
    "shop_df['review_dates'] = \"\""
   ]
  },
  {
   "cell_type": "code",
   "execution_count": null,
   "metadata": {
    "collapsed": true
   },
   "outputs": [],
   "source": [
    "# populate column with list of review dates\n",
    "for i in range(len(shop_df)):\n",
    "    l = get_shop_dates(shop_df['review_source'][i])\n",
    "    shop_df['review_dates'][i] = l"
   ]
  },
  {
   "cell_type": "code",
   "execution_count": null,
   "metadata": {
    "collapsed": false
   },
   "outputs": [],
   "source": [
    "shop_df.head(3)"
   ]
  },
  {
   "cell_type": "code",
   "execution_count": null,
   "metadata": {
    "collapsed": true
   },
   "outputs": [],
   "source": [
    "shop_df.to_csv(path_or_buf = \"shop_data\")"
   ]
  },
  {
   "cell_type": "code",
   "execution_count": 55,
   "metadata": {
    "collapsed": false
   },
   "outputs": [],
   "source": [
    "p_elements = []\n",
    "a_elements = []\n",
    "review_dates = []    \n",
    "def review_dates_per_shop(i):\n",
    "    content = shop_df['review_source'][i]\n",
    "    content_string = content.text.encode(\"utf-8\")\n",
    "    doc = lxml.html.document_fromstring(content_string)\n",
    "    tags = doc.xpath(\"//div[@class='mt-xs-2 mb-xs-2']\")\n",
    "    \n",
    "    for tag in tags:\n",
    "        p_elements.append(tag.getchildren())\n",
    "    for p in p_elements:\n",
    "        for x in p:\n",
    "            a_elements.append(x.getchildren())\n",
    "    for element in a_elements:\n",
    "        for x in element:\n",
    "            review_dates.append(x.tail)\n",
    "    return review_dates"
   ]
  },
  {
   "cell_type": "code",
   "execution_count": 47,
   "metadata": {
    "collapsed": false
   },
   "outputs": [],
   "source": [
    "shop_df['review_dates'] = \"\""
   ]
  },
  {
   "cell_type": "code",
   "execution_count": 53,
   "metadata": {
    "collapsed": false
   },
   "outputs": [
    {
     "name": "stderr",
     "output_type": "stream",
     "text": [
      "/Users/jill/Applications/anaconda/lib/python2.7/site-packages/ipykernel/__main__.py:2: SettingWithCopyWarning: \n",
      "A value is trying to be set on a copy of a slice from a DataFrame\n",
      "\n",
      "See the caveats in the documentation: http://pandas.pydata.org/pandas-docs/stable/indexing.html#indexing-view-versus-copy\n",
      "  from ipykernel import kernelapp as app\n"
     ]
    }
   ],
   "source": [
    "for i in range(1):\n",
    "    shop_df['review_dates'][i] = ['a','b']"
   ]
  },
  {
   "cell_type": "code",
   "execution_count": 54,
   "metadata": {
    "collapsed": false
   },
   "outputs": [
    {
     "data": {
      "text/html": [
       "<div>\n",
       "<table border=\"1\" class=\"dataframe\">\n",
       "  <thead>\n",
       "    <tr style=\"text-align: right;\">\n",
       "      <th></th>\n",
       "      <th>0</th>\n",
       "      <th>shop_name</th>\n",
       "      <th>review_links</th>\n",
       "      <th>review_source</th>\n",
       "      <th>input</th>\n",
       "      <th>review_dates</th>\n",
       "    </tr>\n",
       "  </thead>\n",
       "  <tbody>\n",
       "    <tr>\n",
       "      <th>0</th>\n",
       "      <td>PoshPelicanCo</td>\n",
       "      <td>PoshPelicanCo</td>\n",
       "      <td>https://www.etsy.com/shop/PoshPelicanCo/reviews</td>\n",
       "      <td>&lt;!DOCTYPE html&gt;\\n&lt;html xmlns=\"http://www.w3.or...</td>\n",
       "      <td>0</td>\n",
       "      <td>[a, b]</td>\n",
       "    </tr>\n",
       "    <tr>\n",
       "      <th>1</th>\n",
       "      <td>MustHaveBows</td>\n",
       "      <td>MustHaveBows</td>\n",
       "      <td>https://www.etsy.com/shop/MustHaveBows/reviews</td>\n",
       "      <td>&lt;!DOCTYPE html&gt;\\n&lt;html xmlns=\"http://www.w3.or...</td>\n",
       "      <td>1</td>\n",
       "      <td></td>\n",
       "    </tr>\n",
       "  </tbody>\n",
       "</table>\n",
       "</div>"
      ],
      "text/plain": [
       "               0      shop_name  \\\n",
       "0  PoshPelicanCo  PoshPelicanCo   \n",
       "1   MustHaveBows   MustHaveBows   \n",
       "\n",
       "                                      review_links  \\\n",
       "0  https://www.etsy.com/shop/PoshPelicanCo/reviews   \n",
       "1   https://www.etsy.com/shop/MustHaveBows/reviews   \n",
       "\n",
       "                                       review_source  input review_dates  \n",
       "0  <!DOCTYPE html>\\n<html xmlns=\"http://www.w3.or...      0       [a, b]  \n",
       "1  <!DOCTYPE html>\\n<html xmlns=\"http://www.w3.or...      1               "
      ]
     },
     "execution_count": 54,
     "metadata": {},
     "output_type": "execute_result"
    }
   ],
   "source": [
    "shop_df.head(2)"
   ]
  },
  {
   "cell_type": "code",
   "execution_count": null,
   "metadata": {
    "collapsed": true
   },
   "outputs": [],
   "source": []
  },
  {
   "cell_type": "code",
   "execution_count": null,
   "metadata": {
    "collapsed": true
   },
   "outputs": [],
   "source": []
  },
  {
   "cell_type": "code",
   "execution_count": null,
   "metadata": {
    "collapsed": true
   },
   "outputs": [],
   "source": []
  },
  {
   "cell_type": "code",
   "execution_count": null,
   "metadata": {
    "collapsed": true
   },
   "outputs": [],
   "source": [
    "for i in range(3):\n",
    "    #date_list = []\n",
    "    x = review_dates_per_shop(0,i)\n",
    "    #date_list.append(x)\n",
    "    print x"
   ]
  },
  {
   "cell_type": "code",
   "execution_count": null,
   "metadata": {
    "collapsed": true
   },
   "outputs": [],
   "source": [
    "def pull_dates(m,n):\n",
    "    while n < 43:\n",
    "        my_dict = review_dates_per_shop(m,n)\n",
    "        poop.append(my_dict)\n",
    "        n =+ 1\n",
    "    return poop"
   ]
  },
  {
   "cell_type": "code",
   "execution_count": null,
   "metadata": {
    "collapsed": true
   },
   "outputs": [],
   "source": [
    "list_of_dates = []\n",
    "for i in range(len(shop_df)):\n",
    "    x = review_dates_per_shop(i)\n",
    "    list_of_dates.append(x)"
   ]
  },
  {
   "cell_type": "code",
   "execution_count": null,
   "metadata": {
    "collapsed": true
   },
   "outputs": [],
   "source": []
  },
  {
   "cell_type": "code",
   "execution_count": null,
   "metadata": {
    "collapsed": true
   },
   "outputs": [],
   "source": []
  },
  {
   "cell_type": "code",
   "execution_count": null,
   "metadata": {
    "collapsed": true
   },
   "outputs": [],
   "source": []
  },
  {
   "cell_type": "code",
   "execution_count": null,
   "metadata": {
    "collapsed": true
   },
   "outputs": [],
   "source": []
  }
 ],
 "metadata": {
  "kernelspec": {
   "display_name": "Python 2",
   "language": "python",
   "name": "python2"
  },
  "language_info": {
   "codemirror_mode": {
    "name": "ipython",
    "version": 2
   },
   "file_extension": ".py",
   "mimetype": "text/x-python",
   "name": "python",
   "nbconvert_exporter": "python",
   "pygments_lexer": "ipython2",
   "version": "2.7.12"
  }
 },
 "nbformat": 4,
 "nbformat_minor": 0
}
